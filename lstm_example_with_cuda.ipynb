{
 "cells": [
  {
   "cell_type": "code",
   "execution_count": 1,
   "metadata": {
    "colab": {},
    "colab_type": "code",
    "id": "_PMqdwURMYcQ"
   },
   "outputs": [],
   "source": [
    "%matplotlib inline"
   ]
  },
  {
   "cell_type": "code",
   "execution_count": 2,
   "metadata": {
    "colab": {
     "base_uri": "https://localhost:8080/",
     "height": 34
    },
    "colab_type": "code",
    "executionInfo": {
     "elapsed": 456,
     "status": "ok",
     "timestamp": 1567199946956,
     "user": {
      "displayName": "bill perlman",
      "photoUrl": "",
      "userId": "13261284114599467220"
     },
     "user_tz": 240
    },
    "id": "9up9I4SnMYcV",
    "outputId": "2a0d569f-212a-474e-ea98-f76dbaea090d"
   },
   "outputs": [],
   "source": [
    "# Author: Robert Guthrie\n",
    "\n",
    "import torch\n",
    "import torch.nn as nn\n",
    "import torch.nn.functional as F\n",
    "import torch.optim as optim\n",
    "from torch.autograd import Variable\n",
    "import pandas as pd\n",
    "import numpy as np\n",
    "import matplotlib.pyplot as plt\n",
    "from sklearn import preprocessing\n",
    "import datetime\n"
   ]
  },
  {
   "cell_type": "code",
   "execution_count": 3,
   "metadata": {},
   "outputs": [],
   "source": [
    "# make batches from 2d matrix m\n",
    "def make_batches(m,ss=20,row_len=None):\n",
    "    rl = m.shape[1] if row_len is None else row_len\n",
    "    x = [m[i:(int((len(m)-i)/ss)*ss)+i].reshape(-1,ss,rl) for i in range(len(m)-ss)]\n",
    "    xx = []\n",
    "    for i in range(len(x)):\n",
    "        xx.extend(x[i].reshape(-1))\n",
    "    input_batches = np.array(xx).reshape(-1,ss,rl)\n",
    "    return input_batches\n",
    "    "
   ]
  },
  {
   "cell_type": "code",
   "execution_count": 4,
   "metadata": {
    "colab": {},
    "colab_type": "code",
    "id": "59NP5FYhbfY8"
   },
   "outputs": [],
   "source": [
    "# Here we define our model as a class\n",
    "class LSTM(nn.Module):\n",
    "\n",
    "    def __init__(self, input_dim, hidden_dim,hidden = None, output_dim=1,\n",
    "                    num_layers=2):\n",
    "        super(LSTM, self).__init__()\n",
    "        self.input_dim = input_dim\n",
    "        self.hidden_dim = hidden_dim\n",
    "        self.num_layers = num_layers\n",
    "        self.hidden = hidden\n",
    "        # Define the LSTM layer\n",
    "        self.lstm = nn.LSTM(self.input_dim, self.hidden_dim, self.num_layers)\n",
    "\n",
    "        # Define the output layer\n",
    "        self.linear = nn.Linear(self.hidden_dim, output_dim)\n",
    "\n",
    "    def init_hidden(self,batch_size):\n",
    "        # This is what we'll initialise our hidden state as\n",
    "        return (torch.zeros(self.num_layers, batch_size, self.hidden_dim).cuda(),\n",
    "                torch.zeros(self.num_layers, batch_size, self.hidden_dim).cuda())\n",
    "\n",
    "    def forward(self, input):\n",
    "        in_var = torch.Tensor(input).cuda()\n",
    "        batch_size = in_var.size(1)\n",
    "        if self.hidden is None:\n",
    "          self.hidden = self.init_hidden(batch_size)\n",
    "        lstm_out, self.hidden = self.lstm(in_var,(self.hidden[0].detach(),self.hidden[1].detach()))\n",
    "        # Only take the output from the final timetep\n",
    "        # Can pass on the entirety of lstm_out to the next layer if it is a seq2seq prediction\n",
    "        y_pred = self.linear(lstm_out[-1].view(batch_size, -1))\n",
    "        return y_pred.view(-1)\n",
    "\n"
   ]
  },
  {
   "cell_type": "code",
   "execution_count": 5,
   "metadata": {
    "colab": {
     "base_uri": "https://localhost:8080/",
     "height": 340
    },
    "colab_type": "code",
    "executionInfo": {
     "elapsed": 543,
     "status": "ok",
     "timestamp": 1567201917352,
     "user": {
      "displayName": "bill perlman",
      "photoUrl": "",
      "userId": "13261284114599467220"
     },
     "user_tz": 240
    },
    "id": "C9rn4_rylSGj",
    "outputId": "da0149a5-732e-468a-d9a2-d8e20683bb95"
   },
   "outputs": [
    {
     "name": "stderr",
     "output_type": "stream",
     "text": [
      "/home/ec2-user/anaconda3/envs/pytorch_p36/lib/python3.6/site-packages/ipykernel/__main__.py:3: DeprecationWarning: object of type <class 'float'> cannot be safely interpreted as an integer.\n",
      "  app.launch_new_instance()\n"
     ]
    },
    {
     "data": {
      "text/plain": [
       "[<matplotlib.lines.Line2D at 0x7fabc4674240>]"
      ]
     },
     "execution_count": 5,
     "metadata": {},
     "output_type": "execute_result"
    },
    {
     "data": {
      "image/png": "[encoded data removed]",
      "text/plain": [
       "<Figure size 432x288 with 1 Axes>"
      ]
     },
     "metadata": {},
     "output_type": "display_data"
    }
   ],
   "source": [
    "noise_level = .5\n",
    "cycles = 300\n",
    "x_vals = np.linspace(0,360*cycles,360*cycles/4 + 1)\n",
    "y_vals = np.sin(x_vals*np.pi/180)\n",
    "y_vals = y_vals + np.random.randn(len(y_vals)) * noise_level\n",
    "# df = pd.DataFrame({'x_vals':x_vals,'close':y_vals})\n",
    "# df.iloc[:1000].close.plot.line()\n",
    "plt.plot(y_vals[:1000])"
   ]
  },
  {
   "cell_type": "code",
   "execution_count": 6,
   "metadata": {
    "colab": {
     "base_uri": "https://localhost:8080/",
     "height": 34
    },
    "colab_type": "code",
    "executionInfo": {
     "elapsed": 456,
     "status": "ok",
     "timestamp": 1567201919639,
     "user": {
      "displayName": "bill perlman",
      "photoUrl": "",
      "userId": "13261284114599467220"
     },
     "user_tz": 240
    },
    "id": "2h-o4KdKrQ_z",
    "outputId": "b59bc621-36e2-4dbd-ba9a-5aa57cc9fe54"
   },
   "outputs": [
    {
     "data": {
      "text/plain": [
       "((19, 1300, 1), (1300,), (19, 50, 1), (50,))"
      ]
     },
     "execution_count": 6,
     "metadata": {},
     "output_type": "execute_result"
    }
   ],
   "source": [
    "seq_len = 19\n",
    "total_batches = int(len(y_vals)/(seq_len+1))\n",
    "y_vals_2d = y_vals[0:(total_batches*(seq_len+1))].reshape(total_batches,seq_len+1)\n",
    "x_in = y_vals_2d.reshape(total_batches,seq_len+1,1)\n",
    "x_in = np.transpose(x_in,(1,0,2))\n",
    "x_in = x_in[:seq_len,:,:]\n",
    "y_in = y_vals_2d[:,-1].reshape(-1)\n",
    "tests = 50\n",
    "train = total_batches - tests\n",
    "X_train = x_in[:,:train,:]\n",
    "y_train = y_in[:train]\n",
    "X_test = x_in[:,train:,:]\n",
    "y_test = y_in[train:]\n",
    "\n",
    "X_train.shape,y_train.shape,X_test.shape,y_test.shape\n"
   ]
  },
  {
   "cell_type": "code",
   "execution_count": null,
   "metadata": {
    "colab": {},
    "colab_type": "code",
    "id": "vLLgbGv4bjWR"
   },
   "outputs": [],
   "source": []
  },
  {
   "cell_type": "code",
   "execution_count": 7,
   "metadata": {
    "colab": {
     "base_uri": "https://localhost:8080/",
     "height": 34
    },
    "colab_type": "code",
    "executionInfo": {
     "elapsed": 313,
     "status": "ok",
     "timestamp": 1567200388779,
     "user": {
      "displayName": "bill perlman",
      "photoUrl": "",
      "userId": "13261284114599467220"
     },
     "user_tz": 240
    },
    "id": "Ox463sq7H641",
    "outputId": "ac044347-9f0a-433c-fd70-305b1f3d9ee4"
   },
   "outputs": [
    {
     "data": {
      "text/plain": [
       "torch.Size([19, 1300, 1])"
      ]
     },
     "execution_count": 7,
     "metadata": {},
     "output_type": "execute_result"
    }
   ],
   "source": [
    "torch.Tensor(X_train).size()"
   ]
  },
  {
   "cell_type": "code",
   "execution_count": 9,
   "metadata": {
    "colab": {
     "base_uri": "https://localhost:8080/",
     "height": 496
    },
    "colab_type": "code",
    "executionInfo": {
     "elapsed": 25575,
     "status": "ok",
     "timestamp": 1567202300849,
     "user": {
      "displayName": "bill perlman",
      "photoUrl": "",
      "userId": "13261284114599467220"
     },
     "user_tz": 240
    },
    "id": "HjGhdEreFlCf",
    "outputId": "1ac89fb9-f14b-4483-b872-ade361678d96"
   },
   "outputs": [
    {
     "name": "stderr",
     "output_type": "stream",
     "text": [
      "/home/ec2-user/anaconda3/envs/pytorch_p36/lib/python3.6/site-packages/torch/nn/_reduction.py:46: UserWarning: size_average and reduce args will be deprecated, please use reduction='sum' instead.\n",
      "  warnings.warn(warning.format(ret))\n"
     ]
    },
    {
     "name": "stdout",
     "output_type": "stream",
     "text": [
      "Epoch  0 MSE:  944.0130004882812\n",
      "Epoch  20 MSE:  423.2134094238281\n",
      "Epoch  40 MSE:  391.6416931152344\n",
      "Epoch  60 MSE:  370.53375244140625\n",
      "Epoch  80 MSE:  365.8544921875\n",
      "Epoch  100 MSE:  362.0538635253906\n",
      "Epoch  120 MSE:  354.2416687011719\n",
      "Epoch  140 MSE:  357.60870361328125\n",
      "Epoch  160 MSE:  348.1527404785156\n",
      "Epoch  180 MSE:  344.0533752441406\n",
      "Epoch  200 MSE:  343.8467102050781\n",
      "Epoch  220 MSE:  331.48236083984375\n",
      "Epoch  240 MSE:  319.93121337890625\n",
      "Epoch  260 MSE:  324.1698913574219\n",
      "Epoch  280 MSE:  301.4513854980469\n",
      "Epoch  300 MSE:  285.2470703125\n",
      "Epoch  320 MSE:  267.0130615234375\n",
      "Epoch  340 MSE:  231.7041778564453\n",
      "Epoch  360 MSE:  172.76116943359375\n",
      "Epoch  380 MSE:  239.19886779785156\n",
      "Epoch  400 MSE:  147.20364379882812\n",
      "Epoch  420 MSE:  102.0177230834961\n",
      "Epoch  440 MSE:  59.775325775146484\n",
      "Epoch  460 MSE:  148.6763153076172\n",
      "Epoch  480 MSE:  82.47413635253906\n"
     ]
    }
   ],
   "source": [
    "lstm_input_size = X_train.shape[2]\n",
    "h1 = 64\n",
    "output_dim = 1\n",
    "num_layers = 1\n",
    "model = LSTM(lstm_input_size, h1,  output_dim=output_dim, num_layers=num_layers)\n",
    "model.cuda()\n",
    "\n",
    "num_epochs = 500\n",
    "learning_rate  =.02\n",
    "loss_fn = torch.nn.MSELoss(size_average=False)\n",
    "\n",
    "optimiser = torch.optim.Adam(model.parameters(), lr=learning_rate)\n",
    "\n",
    "#####################\n",
    "# Train model\n",
    "#####################\n",
    "\n",
    "hist = np.zeros(num_epochs)\n",
    "yt = torch.tensor(y_train,dtype=torch.float32).cuda()\n",
    "for t in range(num_epochs):\n",
    "    # Clear stored gradient\n",
    "#     model.zero_grad()\n",
    "        \n",
    "    # Forward pass\n",
    "    y_pred = model(X_train)\n",
    "    loss = loss_fn(y_pred, yt)\n",
    "    if t % 20 == 0:\n",
    "        print(\"Epoch \", t, \"MSE: \", loss.item())\n",
    "    hist[t] = loss.item()\n",
    "\n",
    "    # Zero out gradient, else they will accumulate between epochs\n",
    "    optimiser.zero_grad()\n",
    "\n",
    "    # Backward pass\n",
    "    loss.backward()\n",
    "\n",
    "    # Update parameters\n",
    "    optimiser.step()\n"
   ]
  },
  {
   "cell_type": "code",
   "execution_count": 10,
   "metadata": {
    "colab": {
     "base_uri": "https://localhost:8080/",
     "height": 286
    },
    "colab_type": "code",
    "executionInfo": {
     "elapsed": 518,
     "status": "ok",
     "timestamp": 1567202795218,
     "user": {
      "displayName": "bill perlman",
      "photoUrl": "",
      "userId": "13261284114599467220"
     },
     "user_tz": 240
    },
    "id": "66C4sI5JZBcn",
    "outputId": "e95544a5-bc08-4f79-e063-316931e62a8e"
   },
   "outputs": [
    {
     "data": {
      "text/plain": [
       "[<matplotlib.lines.Line2D at 0x7fac483b1898>]"
      ]
     },
     "execution_count": 10,
     "metadata": {},
     "output_type": "execute_result"
    },
    {
     "data": {
      "image/png": "[encoded data removed]",
      "text/plain": [
       "<Figure size 432x288 with 1 Axes>"
      ]
     },
     "metadata": {},
     "output_type": "display_data"
    }
   ],
   "source": [
    "# you should see just one line\n",
    "model.hidden = None\n",
    "y_t = model(X_test).cpu().data.numpy()\n",
    "plt.plot(y_t.round(5))\n",
    "plt.plot(y_test.round(5))\n",
    "\n"
   ]
  },
  {
   "cell_type": "code",
   "execution_count": 11,
   "metadata": {},
   "outputs": [],
   "source": [
    "uso_path = './data/uso_full.csv'\n",
    "df_uso = pd.read_csv(uso_path)\n",
    "# df_uso['year'] = df_uso.timestamp.str.slice(0,4).astype(int)\n",
    "# df_uso['month'] = df_uso.timestamp.str.slice(5,7).astype(int)\n",
    "# df_uso['day'] = df_uso.timestamp.str.slice(8,10).astype(int)\n",
    "# df_uso['hour'] = df_uso.timestamp.str.slice(11,13).astype(int)\n",
    "# df_uso['minute'] = df_uso.timestamp.str.slice(14,16).astype(int)\n"
   ]
  },
  {
   "cell_type": "code",
   "execution_count": 12,
   "metadata": {},
   "outputs": [
    {
     "data": {
      "text/plain": [
       "array(['year', 'month', 'day', 'hour', 'minute', 'open', 'high', 'low',\n",
       "       'close', 'volume', 'NDX'], dtype=object)"
      ]
     },
     "execution_count": 12,
     "metadata": {},
     "output_type": "execute_result"
    }
   ],
   "source": [
    "df_uso.columns.values"
   ]
  },
  {
   "cell_type": "code",
   "execution_count": 13,
   "metadata": {},
   "outputs": [],
   "source": [
    "df_uso_2018 = df_uso[df_uso.year == 2018]\n",
    "df_uso_2018 = df_uso_2018[(df_uso_2018.hour>=7) & (df_uso_2018.hour<=17)]\n",
    "# for c in ['close','open','high','low','volume']:\n",
    "#     df_uso_2018[c] = df_uso_2018[c].pct_change()\n",
    "# df_uso_2018 = df_uso_2018.iloc[1:]"
   ]
  },
  {
   "cell_type": "code",
   "execution_count": 14,
   "metadata": {
    "scrolled": true
   },
   "outputs": [
    {
     "name": "stderr",
     "output_type": "stream",
     "text": [
      "/home/ec2-user/anaconda3/envs/pytorch_p36/lib/python3.6/site-packages/ipykernel/__main__.py:2: FutureWarning: Method .as_matrix will be removed in a future version. Use .values instead.\n",
      "  from ipykernel import kernelapp as app\n",
      "/home/ec2-user/anaconda3/envs/pytorch_p36/lib/python3.6/site-packages/ipykernel/__main__.py:3: FutureWarning: Method .as_matrix will be removed in a future version. Use .values instead.\n",
      "  app.launch_new_instance()\n"
     ]
    },
    {
     "name": "stdout",
     "output_type": "stream",
     "text": [
      "[2018    1    2]\n",
      "[2018    1    2]\n",
      "[2018    1    3]\n",
      "[2018    1    4]\n",
      "[2018    1    5]\n",
      "[2018    1    8]\n",
      "[2018    1    9]\n",
      "[2018    1   10]\n",
      "[2018    1   11]\n",
      "[2018    1   12]\n",
      "[2018    1   16]\n",
      "[2018    1   17]\n",
      "[2018    1   18]\n",
      "[2018    1   19]\n",
      "[2018    1   22]\n",
      "[2018    1   23]\n",
      "[2018    1   24]\n",
      "[2018    1   25]\n",
      "[2018    1   26]\n",
      "[2018    1   29]\n",
      "[2018    1   30]\n",
      "[2018    1   31]\n",
      "[2018    2    1]\n",
      "[2018    2    2]\n",
      "[2018    2    5]\n",
      "[2018    2    6]\n",
      "[2018    2    7]\n",
      "[2018    2    8]\n",
      "[2018    2    9]\n",
      "[2018    2   12]\n",
      "[2018    2   13]\n",
      "[2018    2   14]\n",
      "[2018    2   15]\n",
      "[2018    2   16]\n",
      "[2018    2   20]\n",
      "[2018    2   21]\n",
      "[2018    2   22]\n",
      "[2018    2   23]\n",
      "[2018    2   26]\n",
      "[2018    2   27]\n",
      "[2018    2   28]\n",
      "[2018    3    1]\n",
      "[2018    3    2]\n",
      "[2018    3    5]\n",
      "[2018    3    6]\n",
      "[2018    3    7]\n",
      "[2018    3    8]\n",
      "[2018    3    9]\n",
      "[2018    3   12]\n",
      "[2018    3   13]\n",
      "[2018    3   14]\n",
      "[2018    3   15]\n",
      "[2018    3   16]\n",
      "[2018    3   19]\n",
      "[2018    3   20]\n",
      "[2018    3   21]\n",
      "[2018    3   22]\n",
      "[2018    3   23]\n",
      "[2018    3   26]\n",
      "[2018    3   27]\n",
      "[2018    3   28]\n",
      "[2018    3   29]\n",
      "[2018    4    2]\n",
      "[2018    4    3]\n",
      "[2018    4    4]\n",
      "[2018    4    5]\n",
      "[2018    4    6]\n",
      "[2018    4    9]\n",
      "[2018    4   10]\n",
      "[2018    4   11]\n",
      "[2018    4   12]\n",
      "[2018    4   13]\n",
      "[2018    4   16]\n",
      "[2018    4   17]\n",
      "[2018    4   18]\n",
      "[2018    4   19]\n",
      "[2018    4   20]\n",
      "[2018    4   23]\n",
      "[2018    4   24]\n",
      "[2018    4   25]\n",
      "[2018    4   26]\n",
      "[2018    4   27]\n",
      "[2018    4   30]\n",
      "[2018    5    1]\n",
      "[2018    5    2]\n",
      "[2018    5    3]\n",
      "[2018    5    4]\n",
      "[2018    5    7]\n",
      "[2018    5    8]\n",
      "[2018    5    9]\n",
      "[2018    5   10]\n",
      "[2018    5   11]\n",
      "[2018    5   14]\n",
      "[2018    5   15]\n",
      "[2018    5   16]\n",
      "[2018    5   17]\n",
      "[2018    5   18]\n",
      "[2018    5   21]\n",
      "[2018    5   22]\n",
      "[2018    5   23]\n",
      "[2018    5   24]\n",
      "[2018    5   25]\n",
      "[2018    5   29]\n",
      "[2018    5   30]\n",
      "[2018    5   31]\n",
      "[2018    6    1]\n",
      "[2018    6    4]\n",
      "[2018    6    5]\n",
      "[2018    6    6]\n",
      "[2018    6    7]\n",
      "[2018    6    8]\n",
      "[2018    6   11]\n",
      "[2018    6   12]\n",
      "[2018    6   13]\n",
      "[2018    6   14]\n",
      "[2018    6   15]\n",
      "[2018    6   18]\n",
      "[2018    6   19]\n",
      "[2018    6   20]\n",
      "[2018    6   21]\n",
      "[2018    6   22]\n",
      "[2018    6   25]\n",
      "[2018    6   26]\n",
      "[2018    6   27]\n",
      "[2018    6   28]\n",
      "[2018    6   29]\n",
      "[2018    7    2]\n",
      "[2018    7    3]\n",
      "[2018    7    5]\n",
      "[2018    7    6]\n",
      "[2018    7    9]\n",
      "[2018    7   10]\n",
      "[2018    7   11]\n",
      "[2018    7   12]\n",
      "[2018    7   13]\n",
      "[2018    7   16]\n",
      "[2018    7   17]\n",
      "[2018    7   18]\n",
      "[2018    7   19]\n",
      "[2018    7   20]\n",
      "[2018    7   23]\n",
      "[2018    7   24]\n",
      "[2018    7   25]\n",
      "[2018    7   26]\n",
      "[2018    7   27]\n",
      "[2018    7   30]\n",
      "[2018    7   31]\n",
      "[2018    8    1]\n",
      "[2018    8    2]\n",
      "[2018    8    3]\n",
      "[2018    8    6]\n",
      "[2018    8    7]\n",
      "[2018    8    8]\n",
      "[2018    8    9]\n",
      "[2018    8   10]\n",
      "[2018    8   13]\n",
      "[2018    8   14]\n",
      "[2018    8   15]\n",
      "[2018    8   16]\n",
      "[2018    8   17]\n",
      "[2018    8   20]\n",
      "[2018    8   21]\n",
      "[2018    8   22]\n",
      "[2018    8   23]\n",
      "[2018    8   24]\n",
      "[2018    8   27]\n",
      "[2018    8   28]\n",
      "[2018    8   29]\n",
      "[2018    8   30]\n",
      "[2018    8   31]\n",
      "[2018    9    4]\n",
      "[2018    9    5]\n",
      "[2018    9    6]\n",
      "[2018    9    7]\n",
      "[2018    9   10]\n",
      "[2018    9   11]\n",
      "[2018    9   12]\n",
      "[2018    9   13]\n",
      "[2018    9   14]\n",
      "[2018    9   17]\n",
      "[2018    9   18]\n",
      "[2018    9   19]\n",
      "[2018    9   20]\n",
      "[2018    9   21]\n",
      "[2018    9   24]\n",
      "[2018    9   25]\n",
      "[2018    9   26]\n",
      "[2018    9   27]\n",
      "[2018    9   28]\n",
      "[2018   10    1]\n",
      "[2018   10    2]\n",
      "[2018   10    3]\n",
      "[2018   10    4]\n",
      "[2018   10    5]\n",
      "[2018   10    8]\n",
      "[2018   10    9]\n",
      "[2018   10   10]\n",
      "[2018   10   11]\n",
      "[2018   10   12]\n",
      "[2018   10   15]\n",
      "[2018   10   16]\n",
      "[2018   10   17]\n",
      "[2018   10   18]\n",
      "[2018   10   19]\n",
      "[2018   10   22]\n",
      "[2018   10   23]\n",
      "[2018   10   24]\n",
      "[2018   10   25]\n",
      "[2018   10   26]\n",
      "[2018   10   29]\n",
      "[2018   10   30]\n",
      "[2018   10   31]\n",
      "[2018   11    1]\n",
      "[2018   11    2]\n",
      "[2018   11    5]\n",
      "[2018   11    6]\n",
      "[2018   11    7]\n",
      "[2018   11    8]\n",
      "[2018   11    9]\n",
      "[2018   11   12]\n",
      "[2018   11   13]\n",
      "[2018   11   14]\n",
      "[2018   11   15]\n",
      "[2018   11   16]\n",
      "[2018   11   19]\n",
      "[2018   11   20]\n",
      "[2018   11   21]\n",
      "[2018   11   23]\n",
      "[2018   11   26]\n",
      "[2018   11   27]\n",
      "[2018   11   28]\n",
      "[2018   11   29]\n",
      "[2018   11   30]\n",
      "[2018   12    3]\n",
      "[2018   12    4]\n",
      "[2018   12    6]\n",
      "[2018   12    7]\n",
      "[2018   12   10]\n",
      "[2018   12   11]\n",
      "[2018   12   12]\n",
      "[2018   12   13]\n",
      "[2018   12   14]\n",
      "[2018   12   17]\n",
      "[2018   12   18]\n"
     ]
    }
   ],
   "source": [
    "def getm(dfgb):\n",
    "    print(dfgb[['year','month','day']].iloc[0].as_matrix())\n",
    "    return make_batches(dfgb.as_matrix())\n",
    "df2018 = df_uso_2018[['close','open','high','low','volume','year','month','day','hour','minute']]\n",
    "df_matrices = df2018.groupby(['year','month','day']).apply(getm)"
   ]
  },
  {
   "cell_type": "code",
   "execution_count": 15,
   "metadata": {},
   "outputs": [
    {
     "name": "stderr",
     "output_type": "stream",
     "text": [
      "/home/ec2-user/anaconda3/envs/pytorch_p36/lib/python3.6/site-packages/ipykernel/__main__.py:2: FutureWarning: Method .as_matrix will be removed in a future version. Use .values instead.\n",
      "  from ipykernel import kernelapp as app\n"
     ]
    },
    {
     "data": {
      "text/plain": [
       "((388, 10), (3590, 20, 10))"
      ]
     },
     "execution_count": 15,
     "metadata": {},
     "output_type": "execute_result"
    }
   ],
   "source": [
    "g = df2018.groupby(['year','month','day']).get_group((2018, 1, 2))\n",
    "g.shape,make_batches(g.as_matrix()).shape"
   ]
  },
  {
   "cell_type": "code",
   "execution_count": 16,
   "metadata": {},
   "outputs": [
    {
     "data": {
      "text/plain": [
       "(854963, 20, 10)"
      ]
     },
     "execution_count": 16,
     "metadata": {},
     "output_type": "execute_result"
    }
   ],
   "source": [
    "mm = []\n",
    "for mmm in df_matrices.values:\n",
    "    mm.extend(mmm)\n",
    "mm = np.array(mm)\n",
    "mm.shape"
   ]
  },
  {
   "cell_type": "code",
   "execution_count": 17,
   "metadata": {},
   "outputs": [
    {
     "data": {
      "text/plain": [
       "[<matplotlib.lines.Line2D at 0x7fabc21ab6a0>]"
      ]
     },
     "execution_count": 17,
     "metadata": {},
     "output_type": "execute_result"
    },
    {
     "data": {
      "image/png": "[encoded data removed]",
      "text/plain": [
       "<Figure size 432x288 with 1 Axes>"
      ]
     },
     "metadata": {},
     "output_type": "display_data"
    }
   ],
   "source": [
    "plt.plot(df_uso_2018.close)"
   ]
  },
  {
   "cell_type": "code",
   "execution_count": 18,
   "metadata": {},
   "outputs": [
    {
     "name": "stderr",
     "output_type": "stream",
     "text": [
      "/home/ec2-user/anaconda3/envs/pytorch_p36/lib/python3.6/site-packages/ipykernel/__main__.py:1: FutureWarning: Method .as_matrix will be removed in a future version. Use .values instead.\n",
      "  if __name__ == '__main__':\n"
     ]
    }
   ],
   "source": [
    "m = df_uso_2018[['close','open','high','low','volume','month','day','hour','minute']].as_matrix()\n"
   ]
  },
  {
   "cell_type": "code",
   "execution_count": 19,
   "metadata": {},
   "outputs": [],
   "source": [
    "# define sequence size\n",
    "ss = 20"
   ]
  },
  {
   "cell_type": "code",
   "execution_count": 20,
   "metadata": {},
   "outputs": [
    {
     "name": "stdout",
     "output_type": "stream",
     "text": [
      "0\n",
      "5000\n",
      "10000\n",
      "15000\n",
      "20000\n",
      "25000\n",
      "30000\n",
      "35000\n",
      "40000\n",
      "45000\n",
      "50000\n",
      "55000\n",
      "60000\n",
      "65000\n",
      "70000\n",
      "75000\n",
      "80000\n",
      "85000\n",
      "90000\n"
     ]
    },
    {
     "data": {
      "text/plain": [
       "(45790, 20, 9)"
      ]
     },
     "execution_count": 20,
     "metadata": {},
     "output_type": "execute_result"
    }
   ],
   "source": [
    "\n",
    "inp_len = m.shape[1]\n",
    "x = [m[i:(int((len(m)-i)/ss)*ss)+i].reshape(-1,ss,inp_len) for i in range(len(m)-ss)]\n",
    "xx = []\n",
    "for i in range(len(x)):\n",
    "    if i % 5000 == 0:\n",
    "        print(i)\n",
    "        xx.extend(x[i].reshape(-1))\n",
    "input_batches = np.array(xx).reshape(-1,ss,inp_len)\n",
    "use_pct_change = False\n",
    "if use_pct_change:\n",
    "    a = input_batches[:,1:,:5]/input_batches[:,0:-1,:5] - 1\n",
    "    input_batches = np.concatenate((a,input_batches[:,1:,5:]),axis=2)\n",
    "input_batches.shape"
   ]
  },
  {
   "cell_type": "code",
   "execution_count": 21,
   "metadata": {},
   "outputs": [],
   "source": [
    "input_batches = mm.copy()"
   ]
  },
  {
   "cell_type": "code",
   "execution_count": 22,
   "metadata": {},
   "outputs": [],
   "source": [
    "feature_to_predict = 0\n",
    "use_all_features=True\n",
    "if use_all_features:\n",
    "    X_vals = input_batches[:,:-1,:].transpose(1,0,2) # use all features\n",
    "else:\n",
    "    X_vals = input_batches[:,:-1,:1].transpose(1,0,2) # use only the first (like the close)\n",
    "y_vals = input_batches[:,-1,feature_to_predict]"
   ]
  },
  {
   "cell_type": "code",
   "execution_count": 23,
   "metadata": {},
   "outputs": [
    {
     "data": {
      "text/plain": [
       "((19, 854963, 10), (854963,))"
      ]
     },
     "execution_count": 23,
     "metadata": {},
     "output_type": "execute_result"
    }
   ],
   "source": [
    "X_vals.shape,y_vals.shape"
   ]
  },
  {
   "cell_type": "code",
   "execution_count": 24,
   "metadata": {},
   "outputs": [
    {
     "data": {
      "text/plain": [
       "((19, 100000, 10), (0,), (19, 1000, 10), (1000,))"
      ]
     },
     "execution_count": 24,
     "metadata": {},
     "output_type": "execute_result"
    }
   ],
   "source": [
    "beg = 0\n",
    "train_size = 100000\n",
    "test_size = 1000\n",
    "beg_idx = beg*train_size\n",
    "end_idx = beg_idx + train_size\n",
    "# X_train = X_vals[:,:train_size,:]\n",
    "# y_train = y_vals[:train_size]\n",
    "# X_test = X_vals[:,train_size:(train_size+test_size),:]\n",
    "# y_test = y_vals[train_size:(train_size+test_size)]\n",
    "# X_train.shape,y_train.shape,X_test.shape,y_test.shape\n",
    "X_train = X_vals[:,beg_idx:end_idx,:]\n",
    "y_train = y_vals[end_idx:end_idx]\n",
    "X_test = X_vals[:,train_size*8:(train_size*8+test_size),:]\n",
    "y_test = y_vals[train_size*8:(train_size*8+test_size)]\n",
    "X_train.shape,y_train.shape,X_test.shape,y_test.shape"
   ]
  },
  {
   "cell_type": "code",
   "execution_count": null,
   "metadata": {
    "scrolled": true
   },
   "outputs": [
    {
     "name": "stderr",
     "output_type": "stream",
     "text": [
      "/home/ec2-user/anaconda3/envs/pytorch_p36/lib/python3.6/site-packages/torch/nn/_reduction.py:46: UserWarning: size_average and reduce args will be deprecated, please use reduction='sum' instead.\n",
      "  warnings.warn(warning.format(ret))\n"
     ]
    },
    {
     "name": "stdout",
     "output_type": "stream",
     "text": [
      "Cycle  0 Epoch  0 MSE:  15433118.0 Elapsed  0\n",
      "Cycle  0 Epoch  50 MSE:  1635775.625 Elapsed  21\n",
      "Cycle  0 Epoch  100 MSE:  36904.19921875 Elapsed  41\n",
      "Cycle  0 Epoch  150 MSE:  12485.19921875 Elapsed  62\n",
      "Cycle  0 Epoch  200 MSE:  12474.6513671875 Elapsed  82\n",
      "Cycle  0 Epoch  250 MSE:  12474.4287109375 Elapsed  103\n",
      "Cycle  0 Epoch  300 MSE:  12474.4267578125 Elapsed  124\n",
      "Cycle  0 Epoch  350 MSE:  12474.4267578125 Elapsed  144\n",
      "Cycle  0 Epoch  400 MSE:  12474.4267578125 Elapsed  165\n",
      "Cycle  0 Epoch  450 MSE:  12474.4267578125 Elapsed  186\n",
      "Cycle  1 Epoch  0 MSE:  15034.4140625 Elapsed  0\n",
      "Cycle  1 Epoch  50 MSE:  9232.5908203125 Elapsed  20\n",
      "Cycle  1 Epoch  100 MSE:  9189.689453125 Elapsed  41\n",
      "Cycle  1 Epoch  150 MSE:  9189.61328125 Elapsed  62\n",
      "Cycle  1 Epoch  200 MSE:  9189.61328125 Elapsed  82\n",
      "Cycle  1 Epoch  250 MSE:  9189.61328125 Elapsed  103\n",
      "Cycle  1 Epoch  300 MSE:  9189.61328125 Elapsed  123\n",
      "Cycle  1 Epoch  350 MSE:  9189.61328125 Elapsed  144\n",
      "Cycle  1 Epoch  400 MSE:  9189.61328125 Elapsed  165\n",
      "Cycle  1 Epoch  450 MSE:  9189.61328125 Elapsed  186\n",
      "Cycle  2 Epoch  0 MSE:  97537.9765625 Elapsed  0\n",
      "Cycle  2 Epoch  50 MSE:  16192.5126953125 Elapsed  20\n",
      "Cycle  2 Epoch  100 MSE:  16187.7314453125 Elapsed  41\n",
      "Cycle  2 Epoch  150 MSE:  16186.359375 Elapsed  62\n",
      "Cycle  2 Epoch  200 MSE:  16186.34375 Elapsed  82\n",
      "Cycle  2 Epoch  250 MSE:  16186.345703125 Elapsed  103\n",
      "Cycle  2 Epoch  300 MSE:  16186.34375 Elapsed  124\n",
      "Cycle  2 Epoch  350 MSE:  16186.34375 Elapsed  145\n",
      "Cycle  2 Epoch  400 MSE:  16186.34375 Elapsed  165\n",
      "Cycle  2 Epoch  450 MSE:  16186.34375 Elapsed  186\n",
      "Cycle  3 Epoch  0 MSE:  56948.01953125 Elapsed  0\n",
      "Cycle  3 Epoch  50 MSE:  26342.115234375 Elapsed  20\n",
      "Cycle  3 Epoch  100 MSE:  26168.19921875 Elapsed  41\n",
      "Cycle  3 Epoch  150 MSE:  26167.287109375 Elapsed  62\n",
      "Cycle  3 Epoch  200 MSE:  26167.28125 Elapsed  82\n",
      "Cycle  3 Epoch  250 MSE:  26167.283203125 Elapsed  103\n",
      "Cycle  3 Epoch  300 MSE:  26167.283203125 Elapsed  124\n",
      "Cycle  3 Epoch  350 MSE:  26167.283203125 Elapsed  145\n",
      "Cycle  3 Epoch  400 MSE:  26167.283203125 Elapsed  166\n",
      "Cycle  3 Epoch  450 MSE:  26167.283203125 Elapsed  186\n",
      "Cycle  4 Epoch  0 MSE:  45355.828125 Elapsed  0\n",
      "Cycle  4 Epoch  50 MSE:  37980.00390625 Elapsed  20\n",
      "Cycle  4 Epoch  100 MSE:  37972.55078125 Elapsed  41\n",
      "Cycle  4 Epoch  150 MSE:  37972.390625 Elapsed  62\n",
      "Cycle  4 Epoch  200 MSE:  37972.39453125 Elapsed  83\n",
      "Cycle  4 Epoch  250 MSE:  37972.390625 Elapsed  104\n",
      "Cycle  4 Epoch  300 MSE:  37972.390625 Elapsed  124\n",
      "Cycle  4 Epoch  350 MSE:  37972.390625 Elapsed  145\n",
      "Cycle  4 Epoch  400 MSE:  37972.390625 Elapsed  166\n"
     ]
    }
   ],
   "source": [
    "\n",
    "lstm_input_size = X_train.shape[2]\n",
    "h1 = 64\n",
    "output_dim = 1\n",
    "num_layers = 1\n",
    "model = LSTM(lstm_input_size, h1,  output_dim=output_dim, num_layers=num_layers)\n",
    "model.cuda()\n",
    "\n",
    "num_epochs = 500\n",
    "init_lr  = .005\n",
    "min_lr = .005\n",
    "loss_fn = torch.nn.MSELoss(size_average=False)\n",
    "\n",
    "optimiser = torch.optim.Adam(model.parameters(), lr=init_lr)\n",
    "\n",
    "#####################\n",
    "# Train model\n",
    "#####################\n",
    "\n",
    "hist = np.zeros(num_epochs)\n",
    "# yt = torch.tensor(y_train,dtype=torch.float32)\n",
    "lowest_loss = np.finfo('d').max\n",
    "for b in range(8):\n",
    "\n",
    "    beg = b\n",
    "    train_size = 100000\n",
    "    test_size = 1000\n",
    "    beg_idx = beg*train_size\n",
    "    end_idx = beg_idx + train_size\n",
    "    X_train = X_vals[:,beg_idx:end_idx,:]\n",
    "    y_train = y_vals[beg_idx:end_idx]\n",
    "    X_test = X_vals[:,train_size*8:(train_size*8+test_size),:]\n",
    "    y_test = y_vals[train_size*8:(train_size*8+test_size)]\n",
    "    X_train.shape,y_train.shape,X_test.shape,y_test.shape    \n",
    "\n",
    "    yt = Variable(torch.from_numpy(y_train).type(torch.FloatTensor)).cuda()\n",
    "    start_dt = datetime.datetime.now()\n",
    "    for t in range(num_epochs):\n",
    "        # Clear stored gradient\n",
    "    #     model.zero_grad()\n",
    "\n",
    "        # Forward pass\n",
    "        y_pred = model(X_train)\n",
    "\n",
    "        loss = loss_fn(y_pred, yt)\n",
    "        if t % 50 == 0:\n",
    "            \n",
    "            elapsed = (datetime.datetime.now() - start_dt).seconds\n",
    "            print(\"Cycle \",b,\"Epoch \", t, \"MSE: \", loss.item(),\"Elapsed \",elapsed)\n",
    "        hist[t] = loss.item()\n",
    "\n",
    "        # Zero out gradient, else they will accumulate between epochs\n",
    "        optimiser.zero_grad()\n",
    "\n",
    "        # Backward pass\n",
    "        loss.backward()\n",
    "\n",
    "        # Update parameters\n",
    "        optimiser.step()\n",
    "\n",
    "        if loss.item() < lowest_loss:\n",
    "            lowest_loss = loss.item()\n",
    "    #     if t % 5 == 0 and t > 0:\n",
    "    #         for param_group in optimiser.param_groups:\n",
    "    #             if param_group['lr'] > min_lr:\n",
    "    #                 param_group['lr'] = param_group['lr'] * 0.9\n",
    "    \n"
   ]
  },
  {
   "cell_type": "code",
   "execution_count": 35,
   "metadata": {},
   "outputs": [
    {
     "data": {
      "text/plain": [
       "(100000,)"
      ]
     },
     "execution_count": 35,
     "metadata": {},
     "output_type": "execute_result"
    }
   ],
   "source": [
    "# y_pred.size()\n",
    "y_train.shape"
   ]
  },
  {
   "cell_type": "code",
   "execution_count": null,
   "metadata": {},
   "outputs": [],
   "source": [
    "beg_seq = 1\n",
    "seq_len = 4\n",
    "num_seq = 200000\n",
    "\n",
    "seqs = np.arange(beg_seq,beg_seq+beg_seq*seq_len*num_seq).reshape(-1,l)\n",
    "x_in = a[:,:-1]\n",
    "y_in = a[:,-1:]"
   ]
  },
  {
   "cell_type": "code",
   "execution_count": null,
   "metadata": {},
   "outputs": [],
   "source": [
    "x_in.shape,y_in.shape"
   ]
  },
  {
   "cell_type": "code",
   "execution_count": null,
   "metadata": {
    "scrolled": true
   },
   "outputs": [],
   "source": [
    "yearly_std = .2\n",
    "daily_std = .2 / 252**.5\n",
    "y_init = 100\n",
    "steps = 100\n",
    "pct_changes = np.random.choice([-1,1],size=(steps)) * np.random.randn(steps)* daily_std\n",
    "vals = np.concatenate(([y_init],np.zeros(steps-1)))\n",
    "# 100, i-1 * (1+c1),i-1 * (1+c2),i-1 * (1+c3)\n",
    "\n",
    "# 100, \n",
    "# 100 * (1+c1), \n",
    "# (100 * (1+c1)*(1+c2)), \n",
    "# (100 * (1+c1)*(1+c2))* (1+c3)\n",
    "p=1\n",
    "plt.plot([y_init * np.prod([(1+pct_changes[i-p:i])]) for i in range(p,steps)])\n"
   ]
  },
  {
   "cell_type": "code",
   "execution_count": null,
   "metadata": {},
   "outputs": [],
   "source": [
    "X_vals = input_batches[:,:-1,:1].transpose(1,0,2)\n",
    "y_vals = input_batches[:,-1,0]"
   ]
  },
  {
   "cell_type": "code",
   "execution_count": null,
   "metadata": {},
   "outputs": [],
   "source": [
    "x2 = make_batches(m)\n",
    "x2.shape"
   ]
  },
  {
   "cell_type": "code",
   "execution_count": null,
   "metadata": {},
   "outputs": [],
   "source": []
  }
 ],
 "metadata": {
  "colab": {
   "collapsed_sections": [],
   "name": "Copy of sequence_models_tutorial.ipynb",
   "provenance": [
    {
     "file_id": "https://github.com/pytorch/tutorials/blob/gh-pages/_downloads/sequence_models_tutorial.ipynb",
     "timestamp": 1567199914628
    }
   ],
   "version": "0.3.2"
  },
  "kernelspec": {
   "display_name": "Python 3",
   "language": "python",
   "name": "python3"
  },
  "language_info": {
   "codemirror_mode": {
    "name": "ipython",
    "version": 3
   },
   "file_extension": ".py",
   "mimetype": "text/x-python",
   "name": "python",
   "nbconvert_exporter": "python",
   "pygments_lexer": "ipython3",
   "version": "3.6.5"
  }
 },
 "nbformat": 4,
 "nbformat_minor": 1
}
