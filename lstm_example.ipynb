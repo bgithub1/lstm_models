{
 "cells": [
  {
   "cell_type": "markdown",
   "metadata": {},
   "source": [
    "# lstm_example\n",
    "\n",
    "### Use a basic LSTM to regress data and predict future prices for the Commodity ETF USO.\n",
    "\n",
    "####  This project is adapted from the tutorial by Robert Guthrie at: \n",
    "\n",
    "http://seba1511.net/tutorials/beginner/nlp/sequence_models_tutorial.html#sphx-glr-beginner-nlp-sequence-models-tutorial-py\n"
   ]
  },
  {
   "cell_type": "code",
   "execution_count": 1,
   "metadata": {
    "colab": {},
    "colab_type": "code",
    "id": "_PMqdwURMYcQ"
   },
   "outputs": [],
   "source": [
    "%matplotlib inline"
   ]
  },
  {
   "cell_type": "code",
   "execution_count": 2,
   "metadata": {
    "colab": {
     "base_uri": "https://localhost:8080/",
     "height": 34
    },
    "colab_type": "code",
    "executionInfo": {
     "elapsed": 456,
     "status": "ok",
     "timestamp": 1567199946956,
     "user": {
      "displayName": "bill perlman",
      "photoUrl": "",
      "userId": "13261284114599467220"
     },
     "user_tz": 240
    },
    "id": "9up9I4SnMYcV",
    "outputId": "2a0d569f-212a-474e-ea98-f76dbaea090d"
   },
   "outputs": [],
   "source": [
    "\n",
    "import torch\n",
    "import torch.nn as nn\n",
    "import torch.nn.functional as F\n",
    "import torch.optim as optim\n",
    "from torch.autograd import Variable\n",
    "import pandas as pd\n",
    "import numpy as np\n",
    "import matplotlib.pyplot as plt\n",
    "from sklearn import preprocessing\n",
    "import warnings\n",
    "warnings.filterwarnings('ignore')"
   ]
  },
  {
   "cell_type": "code",
   "execution_count": 3,
   "metadata": {},
   "outputs": [],
   "source": [
    "# make batches from 2d matrix m\n",
    "def make_batches(m,ss=20,row_len=None):\n",
    "    rl = m.shape[1] if row_len is None else row_len\n",
    "    x = [m[i:(int((len(m)-i)/ss)*ss)+i].reshape(-1,ss,rl) for i in range(len(m)-ss)]\n",
    "    xx = []\n",
    "    for i in range(len(x)):\n",
    "        xx.extend(x[i].reshape(-1))\n",
    "    input_batches = np.array(xx).reshape(-1,ss,rl)\n",
    "    return input_batches\n",
    "    "
   ]
  },
  {
   "cell_type": "code",
   "execution_count": 4,
   "metadata": {
    "colab": {},
    "colab_type": "code",
    "id": "59NP5FYhbfY8"
   },
   "outputs": [],
   "source": [
    "# Here we define our model as a class\n",
    "class LSTM(nn.Module):\n",
    "\n",
    "    def __init__(self, input_dim, hidden_dim,hidden = None, output_dim=1,\n",
    "                    num_layers=2):\n",
    "        super(LSTM, self).__init__()\n",
    "        self.input_dim = input_dim\n",
    "        self.hidden_dim = hidden_dim\n",
    "        self.num_layers = num_layers\n",
    "        self.hidden = hidden\n",
    "        # Define the LSTM layer\n",
    "        self.lstm = nn.LSTM(self.input_dim, self.hidden_dim, self.num_layers)\n",
    "\n",
    "        # Define the output layer\n",
    "        self.linear = nn.Linear(self.hidden_dim, output_dim)\n",
    "\n",
    "    def init_hidden(self,batch_size):\n",
    "        # This is what we'll initialise our hidden state as\n",
    "        return (torch.zeros(self.num_layers, batch_size, self.hidden_dim),\n",
    "                torch.zeros(self.num_layers, batch_size, self.hidden_dim))\n",
    "\n",
    "    def forward(self, input):\n",
    "        in_var = torch.Tensor(input)\n",
    "        batch_size = in_var.size(1)\n",
    "        if self.hidden is None:\n",
    "          self.hidden = self.init_hidden(batch_size)\n",
    "        lstm_out, self.hidden = self.lstm(in_var,(self.hidden[0].detach(),self.hidden[1].detach()))\n",
    "        # Only take the output from the final timetep\n",
    "        # Can pass on the entirety of lstm_out to the next layer if it is a seq2seq prediction\n",
    "        y_pred = self.linear(lstm_out[-1].view(batch_size, -1))\n",
    "        return y_pred.view(-1)\n",
    "\n"
   ]
  },
  {
   "cell_type": "code",
   "execution_count": 5,
   "metadata": {
    "colab": {
     "base_uri": "https://localhost:8080/",
     "height": 340
    },
    "colab_type": "code",
    "executionInfo": {
     "elapsed": 543,
     "status": "ok",
     "timestamp": 1567201917352,
     "user": {
      "displayName": "bill perlman",
      "photoUrl": "",
      "userId": "13261284114599467220"
     },
     "user_tz": 240
    },
    "id": "C9rn4_rylSGj",
    "outputId": "da0149a5-732e-468a-d9a2-d8e20683bb95"
   },
   "outputs": [
    {
     "data": {
      "text/plain": [
       "[<matplotlib.lines.Line2D at 0x11e9a4c18>]"
      ]
     },
     "execution_count": 5,
     "metadata": {},
     "output_type": "execute_result"
    },
    {
     "data": {
      "image/png": "[encoded data removed]",
      "text/plain": [
       "<Figure size 432x288 with 1 Axes>"
      ]
     },
     "metadata": {
      "needs_background": "light"
     },
     "output_type": "display_data"
    }
   ],
   "source": [
    "noise_level = .5\n",
    "cycles = 300\n",
    "x_vals = np.linspace(0,360*cycles,360*cycles/4 + 1)\n",
    "y_vals = np.sin(x_vals*np.pi/180)\n",
    "y_vals = y_vals + np.random.randn(len(y_vals)) * noise_level\n",
    "# df = pd.DataFrame({'x_vals':x_vals,'close':y_vals})\n",
    "# df.iloc[:1000].close.plot.line()\n",
    "plt.plot(y_vals[:1000])"
   ]
  },
  {
   "cell_type": "code",
   "execution_count": 6,
   "metadata": {
    "colab": {
     "base_uri": "https://localhost:8080/",
     "height": 34
    },
    "colab_type": "code",
    "executionInfo": {
     "elapsed": 456,
     "status": "ok",
     "timestamp": 1567201919639,
     "user": {
      "displayName": "bill perlman",
      "photoUrl": "",
      "userId": "13261284114599467220"
     },
     "user_tz": 240
    },
    "id": "2h-o4KdKrQ_z",
    "outputId": "b59bc621-36e2-4dbd-ba9a-5aa57cc9fe54"
   },
   "outputs": [
    {
     "data": {
      "text/plain": [
       "((19, 1300, 1), (1300,), (19, 50, 1), (50,))"
      ]
     },
     "execution_count": 6,
     "metadata": {},
     "output_type": "execute_result"
    }
   ],
   "source": [
    "seq_len = 19\n",
    "total_batches = int(len(y_vals)/(seq_len+1))\n",
    "y_vals_2d = y_vals[0:(total_batches*(seq_len+1))].reshape(total_batches,seq_len+1)\n",
    "x_in = y_vals_2d.reshape(total_batches,seq_len+1,1)\n",
    "x_in = np.transpose(x_in,(1,0,2))\n",
    "x_in = x_in[:seq_len,:,:]\n",
    "y_in = y_vals_2d[:,-1].reshape(-1)\n",
    "tests = 50\n",
    "train = total_batches - tests\n",
    "X_train = x_in[:,:train,:]\n",
    "y_train = y_in[:train]\n",
    "X_test = x_in[:,train:,:]\n",
    "y_test = y_in[train:]\n",
    "\n",
    "X_train.shape,y_train.shape,X_test.shape,y_test.shape\n"
   ]
  },
  {
   "cell_type": "code",
   "execution_count": null,
   "metadata": {
    "colab": {},
    "colab_type": "code",
    "id": "vLLgbGv4bjWR"
   },
   "outputs": [],
   "source": []
  },
  {
   "cell_type": "code",
   "execution_count": 7,
   "metadata": {
    "colab": {
     "base_uri": "https://localhost:8080/",
     "height": 34
    },
    "colab_type": "code",
    "executionInfo": {
     "elapsed": 313,
     "status": "ok",
     "timestamp": 1567200388779,
     "user": {
      "displayName": "bill perlman",
      "photoUrl": "",
      "userId": "13261284114599467220"
     },
     "user_tz": 240
    },
    "id": "Ox463sq7H641",
    "outputId": "ac044347-9f0a-433c-fd70-305b1f3d9ee4"
   },
   "outputs": [
    {
     "data": {
      "text/plain": [
       "torch.Size([19, 1300, 1])"
      ]
     },
     "execution_count": 7,
     "metadata": {},
     "output_type": "execute_result"
    }
   ],
   "source": [
    "torch.Tensor(X_train).size()"
   ]
  },
  {
   "cell_type": "code",
   "execution_count": 8,
   "metadata": {
    "colab": {
     "base_uri": "https://localhost:8080/",
     "height": 496
    },
    "colab_type": "code",
    "executionInfo": {
     "elapsed": 25575,
     "status": "ok",
     "timestamp": 1567202300849,
     "user": {
      "displayName": "bill perlman",
      "photoUrl": "",
      "userId": "13261284114599467220"
     },
     "user_tz": 240
    },
    "id": "HjGhdEreFlCf",
    "outputId": "1ac89fb9-f14b-4483-b872-ade361678d96"
   },
   "outputs": [
    {
     "name": "stdout",
     "output_type": "stream",
     "text": [
      "Epoch  0 MSE:  949.3350219726562\n",
      "Epoch  20 MSE:  486.4766540527344\n",
      "Epoch  40 MSE:  394.2547302246094\n",
      "Epoch  60 MSE:  387.166015625\n",
      "Epoch  80 MSE:  381.189208984375\n",
      "Epoch  100 MSE:  359.9209289550781\n",
      "Epoch  120 MSE:  339.68408203125\n",
      "Epoch  140 MSE:  339.6602478027344\n",
      "Epoch  160 MSE:  331.43212890625\n",
      "Epoch  180 MSE:  318.31842041015625\n",
      "Epoch  200 MSE:  312.08233642578125\n",
      "Epoch  220 MSE:  323.024658203125\n",
      "Epoch  240 MSE:  294.7080383300781\n",
      "Epoch  260 MSE:  293.65582275390625\n",
      "Epoch  280 MSE:  282.2705993652344\n",
      "Epoch  300 MSE:  275.7148132324219\n",
      "Epoch  320 MSE:  231.4066162109375\n",
      "Epoch  340 MSE:  192.57313537597656\n",
      "Epoch  360 MSE:  154.0715789794922\n",
      "Epoch  380 MSE:  150.17459106445312\n",
      "Epoch  400 MSE:  93.07353973388672\n",
      "Epoch  420 MSE:  56.6368408203125\n",
      "Epoch  440 MSE:  39.62296676635742\n",
      "Epoch  460 MSE:  40.20351028442383\n",
      "Epoch  480 MSE:  21.668079376220703\n"
     ]
    }
   ],
   "source": [
    "lstm_input_size = X_train.shape[2]\n",
    "h1 = 64\n",
    "output_dim = 1\n",
    "num_layers = 1\n",
    "model = LSTM(lstm_input_size, h1,  output_dim=output_dim, num_layers=num_layers)\n",
    "\n",
    "num_epochs = 500\n",
    "learning_rate  =.02\n",
    "loss_fn = torch.nn.MSELoss(size_average=False)\n",
    "\n",
    "optimiser = torch.optim.Adam(model.parameters(), lr=learning_rate)\n",
    "\n",
    "#####################\n",
    "# Train model\n",
    "#####################\n",
    "\n",
    "hist = np.zeros(num_epochs)\n",
    "yt = torch.tensor(y_train,dtype=torch.float32)\n",
    "for t in range(num_epochs):\n",
    "    # Clear stored gradient\n",
    "#     model.zero_grad()\n",
    "        \n",
    "    # Forward pass\n",
    "    y_pred = model(X_train)\n",
    "    loss = loss_fn(y_pred, yt)\n",
    "    if t % 20 == 0:\n",
    "        print(\"Epoch \", t, \"MSE: \", loss.item())\n",
    "    hist[t] = loss.item()\n",
    "\n",
    "    # Zero out gradient, else they will accumulate between epochs\n",
    "    optimiser.zero_grad()\n",
    "\n",
    "    # Backward pass\n",
    "    loss.backward()\n",
    "\n",
    "    # Update parameters\n",
    "    optimiser.step()\n"
   ]
  },
  {
   "cell_type": "code",
   "execution_count": 12,
   "metadata": {
    "colab": {
     "base_uri": "https://localhost:8080/",
     "height": 286
    },
    "colab_type": "code",
    "executionInfo": {
     "elapsed": 518,
     "status": "ok",
     "timestamp": 1567202795218,
     "user": {
      "displayName": "bill perlman",
      "photoUrl": "",
      "userId": "13261284114599467220"
     },
     "user_tz": 240
    },
    "id": "66C4sI5JZBcn",
    "outputId": "e95544a5-bc08-4f79-e063-316931e62a8e"
   },
   "outputs": [
    {
     "data": {
      "text/plain": [
       "[<matplotlib.lines.Line2D at 0x10ba77ba8>]"
      ]
     },
     "execution_count": 12,
     "metadata": {},
     "output_type": "execute_result"
    },
    {
     "data": {
      "image/png": "[encoded data removed]",
      "text/plain": [
       "<Figure size 720x504 with 1 Axes>"
      ]
     },
     "metadata": {
      "needs_background": "light"
     },
     "output_type": "display_data"
    }
   ],
   "source": [
    "# you should see just one line\n",
    "model.hidden = None\n",
    "y_t = model(X_test).data.numpy()\n",
    "fig= plt.figure(figsize=(10,7))\n",
    "plt.plot(y_t.round(5))\n",
    "plt.plot(y_test.round(5))"
   ]
  },
  {
   "cell_type": "code",
   "execution_count": 13,
   "metadata": {},
   "outputs": [],
   "source": [
    "md_folder = '/Users/bperlman1/Dropbox/market_data'\n",
    "uso_path = f'{md_folder}/stocks/uso.csv'\n",
    "df_uso = pd.read_csv(uso_path)\n",
    "df_uso['year'] = df_uso.timestamp.str.slice(0,4).astype(int)\n",
    "df_uso['month'] = df_uso.timestamp.str.slice(5,7).astype(int)\n",
    "df_uso['day'] = df_uso.timestamp.str.slice(8,10).astype(int)\n",
    "df_uso['hour'] = df_uso.timestamp.str.slice(11,13).astype(int)\n",
    "df_uso['minute'] = df_uso.timestamp.str.slice(14,16).astype(int)\n"
   ]
  },
  {
   "cell_type": "code",
   "execution_count": 14,
   "metadata": {},
   "outputs": [
    {
     "data": {
      "text/plain": [
       "array(['close', 'high', 'low', 'open', 'symbol', 'timestamp',\n",
       "       'tradingDay', 'volume', 'year', 'month', 'day', 'hour', 'minute'],\n",
       "      dtype=object)"
      ]
     },
     "execution_count": 14,
     "metadata": {},
     "output_type": "execute_result"
    }
   ],
   "source": [
    "df_uso.columns.values"
   ]
  },
  {
   "cell_type": "code",
   "execution_count": 15,
   "metadata": {},
   "outputs": [],
   "source": [
    "df_uso_2018 = df_uso[df_uso.tradingDay.str.contains('2018')]\n",
    "df_uso_2018 = df_uso_2018[(df_uso_2018.hour>=7) & (df_uso_2018.hour<=17)]\n",
    "# for c in ['close','open','high','low','volume']:\n",
    "#     df_uso_2018[c] = df_uso_2018[c].pct_change()\n",
    "# df_uso_2018 = df_uso_2018.iloc[1:]"
   ]
  },
  {
   "cell_type": "code",
   "execution_count": 16,
   "metadata": {},
   "outputs": [
    {
     "name": "stdout",
     "output_type": "stream",
     "text": [
      "[2018    1    2]\n",
      "[2018    1    3]\n",
      "[2018    1    4]\n",
      "[2018    1    5]\n",
      "[2018    1    8]\n",
      "[2018    1    9]\n",
      "[2018    1   10]\n",
      "[2018    1   11]\n",
      "[2018    1   12]\n",
      "[2018    1   16]\n",
      "[2018    1   17]\n",
      "[2018    1   18]\n",
      "[2018    1   19]\n",
      "[2018    1   22]\n",
      "[2018    1   23]\n",
      "[2018    1   24]\n",
      "[2018    1   25]\n",
      "[2018    1   26]\n",
      "[2018    1   29]\n",
      "[2018    1   30]\n",
      "[2018    1   31]\n",
      "[2018    2    1]\n",
      "[2018    2    2]\n",
      "[2018    2    5]\n",
      "[2018    2    6]\n",
      "[2018    2    7]\n",
      "[2018    2    8]\n",
      "[2018    2    9]\n",
      "[2018    2   12]\n",
      "[2018    2   13]\n",
      "[2018    2   14]\n",
      "[2018    2   15]\n",
      "[2018    2   16]\n",
      "[2018    2   20]\n",
      "[2018    2   21]\n",
      "[2018    2   22]\n",
      "[2018    2   23]\n",
      "[2018    2   26]\n",
      "[2018    2   27]\n",
      "[2018    2   28]\n",
      "[2018    3    1]\n",
      "[2018    3    2]\n",
      "[2018    3    5]\n",
      "[2018    3    6]\n",
      "[2018    3    7]\n",
      "[2018    3    8]\n",
      "[2018    3    9]\n",
      "[2018    3   12]\n",
      "[2018    3   13]\n",
      "[2018    3   14]\n",
      "[2018    3   15]\n",
      "[2018    3   16]\n",
      "[2018    3   19]\n",
      "[2018    3   20]\n",
      "[2018    3   21]\n",
      "[2018    3   22]\n",
      "[2018    3   23]\n",
      "[2018    3   26]\n",
      "[2018    3   27]\n",
      "[2018    3   28]\n",
      "[2018    3   29]\n",
      "[2018    4    2]\n",
      "[2018    4    3]\n",
      "[2018    4    4]\n",
      "[2018    4    5]\n",
      "[2018    4    6]\n",
      "[2018    4    9]\n",
      "[2018    4   10]\n",
      "[2018    4   11]\n",
      "[2018    4   12]\n",
      "[2018    4   13]\n",
      "[2018    4   16]\n",
      "[2018    4   17]\n",
      "[2018    4   18]\n",
      "[2018    4   19]\n",
      "[2018    4   20]\n",
      "[2018    4   23]\n",
      "[2018    4   24]\n",
      "[2018    4   25]\n",
      "[2018    4   26]\n",
      "[2018    4   27]\n",
      "[2018    4   30]\n",
      "[2018    5    1]\n",
      "[2018    5    2]\n",
      "[2018    5    3]\n",
      "[2018    5    4]\n",
      "[2018    5    7]\n",
      "[2018    5    8]\n",
      "[2018    5    9]\n",
      "[2018    5   10]\n",
      "[2018    5   11]\n",
      "[2018    5   14]\n",
      "[2018    5   15]\n",
      "[2018    5   16]\n",
      "[2018    5   17]\n",
      "[2018    5   18]\n",
      "[2018    5   21]\n",
      "[2018    5   22]\n",
      "[2018    5   23]\n",
      "[2018    5   24]\n",
      "[2018    5   25]\n",
      "[2018    5   29]\n",
      "[2018    5   30]\n",
      "[2018    5   31]\n",
      "[2018    6    1]\n",
      "[2018    6    4]\n",
      "[2018    6    5]\n",
      "[2018    6    6]\n",
      "[2018    6    7]\n",
      "[2018    6    8]\n",
      "[2018    6   11]\n",
      "[2018    6   12]\n",
      "[2018    6   13]\n",
      "[2018    6   14]\n",
      "[2018    6   15]\n",
      "[2018    6   18]\n",
      "[2018    6   19]\n",
      "[2018    6   20]\n",
      "[2018    6   21]\n",
      "[2018    6   22]\n",
      "[2018    6   25]\n",
      "[2018    6   26]\n",
      "[2018    6   27]\n",
      "[2018    6   28]\n",
      "[2018    6   29]\n",
      "[2018    7    2]\n",
      "[2018    7    3]\n",
      "[2018    7    5]\n",
      "[2018    7    6]\n",
      "[2018    7    9]\n",
      "[2018    7   10]\n",
      "[2018    7   11]\n",
      "[2018    7   12]\n",
      "[2018    7   13]\n",
      "[2018    7   16]\n",
      "[2018    7   17]\n",
      "[2018    7   18]\n",
      "[2018    7   19]\n",
      "[2018    7   20]\n",
      "[2018    7   23]\n",
      "[2018    7   24]\n",
      "[2018    7   25]\n",
      "[2018    7   26]\n",
      "[2018    7   27]\n",
      "[2018    7   30]\n",
      "[2018    7   31]\n",
      "[2018    8    1]\n",
      "[2018    8    2]\n",
      "[2018    8    3]\n",
      "[2018    8    6]\n",
      "[2018    8    7]\n",
      "[2018    8    8]\n",
      "[2018    8    9]\n",
      "[2018    8   10]\n",
      "[2018    8   13]\n",
      "[2018    8   14]\n",
      "[2018    8   15]\n",
      "[2018    8   16]\n",
      "[2018    8   17]\n",
      "[2018    8   20]\n",
      "[2018    8   21]\n",
      "[2018    8   22]\n",
      "[2018    8   23]\n",
      "[2018    8   24]\n",
      "[2018    8   27]\n",
      "[2018    8   28]\n",
      "[2018    8   29]\n",
      "[2018    8   30]\n",
      "[2018    8   31]\n",
      "[2018    9    4]\n",
      "[2018    9    5]\n",
      "[2018    9    6]\n",
      "[2018    9    7]\n",
      "[2018    9   10]\n",
      "[2018    9   11]\n",
      "[2018    9   12]\n",
      "[2018    9   13]\n",
      "[2018    9   14]\n",
      "[2018    9   17]\n",
      "[2018    9   18]\n",
      "[2018    9   19]\n",
      "[2018    9   20]\n",
      "[2018    9   21]\n",
      "[2018    9   24]\n",
      "[2018    9   25]\n",
      "[2018    9   26]\n",
      "[2018    9   27]\n",
      "[2018    9   28]\n",
      "[2018   10    1]\n",
      "[2018   10    2]\n",
      "[2018   10    3]\n",
      "[2018   10    4]\n",
      "[2018   10    5]\n",
      "[2018   10    8]\n",
      "[2018   10    9]\n",
      "[2018   10   10]\n",
      "[2018   10   11]\n",
      "[2018   10   12]\n",
      "[2018   10   15]\n",
      "[2018   10   16]\n",
      "[2018   10   17]\n",
      "[2018   10   18]\n",
      "[2018   10   19]\n",
      "[2018   10   22]\n",
      "[2018   10   23]\n",
      "[2018   10   24]\n",
      "[2018   10   25]\n",
      "[2018   10   26]\n",
      "[2018   10   29]\n",
      "[2018   10   30]\n",
      "[2018   10   31]\n",
      "[2018   11    1]\n",
      "[2018   11    2]\n",
      "[2018   11    5]\n",
      "[2018   11    6]\n",
      "[2018   11    7]\n",
      "[2018   11    8]\n",
      "[2018   11    9]\n",
      "[2018   11   12]\n",
      "[2018   11   13]\n",
      "[2018   11   14]\n",
      "[2018   11   15]\n",
      "[2018   11   16]\n",
      "[2018   11   19]\n",
      "[2018   11   20]\n",
      "[2018   11   21]\n",
      "[2018   11   23]\n",
      "[2018   11   26]\n",
      "[2018   11   27]\n",
      "[2018   11   28]\n",
      "[2018   11   29]\n",
      "[2018   11   30]\n",
      "[2018   12    3]\n",
      "[2018   12    4]\n",
      "[2018   12    6]\n",
      "[2018   12    7]\n",
      "[2018   12   10]\n",
      "[2018   12   11]\n",
      "[2018   12   12]\n",
      "[2018   12   13]\n",
      "[2018   12   14]\n",
      "[2018   12   17]\n",
      "[2018   12   18]\n"
     ]
    }
   ],
   "source": [
    "def getm(dfgb):\n",
    "    print(dfgb[['year','month','day']].iloc[0].as_matrix())\n",
    "    return make_batches(dfgb.as_matrix())\n",
    "df2018 = df_uso_2018[['close','open','high','low','volume','year','month','day','hour','minute']]\n",
    "df_matrices = df2018.groupby(['year','month','day']).apply(getm)"
   ]
  },
  {
   "cell_type": "code",
   "execution_count": 17,
   "metadata": {},
   "outputs": [
    {
     "data": {
      "text/plain": [
       "((388, 10), (3590, 20, 10))"
      ]
     },
     "execution_count": 17,
     "metadata": {},
     "output_type": "execute_result"
    }
   ],
   "source": [
    "g = df2018.groupby(['year','month','day']).get_group((2018, 1, 2))\n",
    "g.shape,make_batches(g.as_matrix()).shape"
   ]
  },
  {
   "cell_type": "code",
   "execution_count": 18,
   "metadata": {},
   "outputs": [
    {
     "data": {
      "text/plain": [
       "(854970, 20, 10)"
      ]
     },
     "execution_count": 18,
     "metadata": {},
     "output_type": "execute_result"
    }
   ],
   "source": [
    "mm = []\n",
    "for mmm in df_matrices.values:\n",
    "    mm.extend(mmm)\n",
    "mm = np.array(mm)\n",
    "mm.shape"
   ]
  },
  {
   "cell_type": "code",
   "execution_count": 19,
   "metadata": {},
   "outputs": [
    {
     "data": {
      "text/plain": [
       "[<matplotlib.lines.Line2D at 0x11f747668>]"
      ]
     },
     "execution_count": 19,
     "metadata": {},
     "output_type": "execute_result"
    },
    {
     "data": {
      "image/png": "[encoded data removed]",
      "text/plain": [
       "<Figure size 432x288 with 1 Axes>"
      ]
     },
     "metadata": {
      "needs_background": "light"
     },
     "output_type": "display_data"
    }
   ],
   "source": [
    "plt.plot(df_uso_2018.close)"
   ]
  },
  {
   "cell_type": "code",
   "execution_count": 20,
   "metadata": {},
   "outputs": [],
   "source": [
    "m = df_uso_2018[['close','open','high','low','volume','month','day','hour','minute']].as_matrix()\n"
   ]
  },
  {
   "cell_type": "code",
   "execution_count": 21,
   "metadata": {},
   "outputs": [],
   "source": [
    "# define sequence size\n",
    "ss = 20"
   ]
  },
  {
   "cell_type": "code",
   "execution_count": 22,
   "metadata": {},
   "outputs": [
    {
     "name": "stdout",
     "output_type": "stream",
     "text": [
      "0\n",
      "5000\n",
      "10000\n",
      "15000\n",
      "20000\n",
      "25000\n",
      "30000\n",
      "35000\n",
      "40000\n",
      "45000\n",
      "50000\n",
      "55000\n",
      "60000\n",
      "65000\n",
      "70000\n",
      "75000\n",
      "80000\n",
      "85000\n",
      "90000\n"
     ]
    },
    {
     "data": {
      "text/plain": [
       "(45790, 20, 9)"
      ]
     },
     "execution_count": 22,
     "metadata": {},
     "output_type": "execute_result"
    }
   ],
   "source": [
    "\n",
    "inp_len = m.shape[1]\n",
    "x = [m[i:(int((len(m)-i)/ss)*ss)+i].reshape(-1,ss,inp_len) for i in range(len(m)-ss)]\n",
    "xx = []\n",
    "for i in range(len(x)):\n",
    "    if i % 5000 == 0:\n",
    "        print(i)\n",
    "        xx.extend(x[i].reshape(-1))\n",
    "input_batches = np.array(xx).reshape(-1,ss,inp_len)\n",
    "use_pct_change = False\n",
    "if use_pct_change:\n",
    "    a = input_batches[:,1:,:5]/input_batches[:,0:-1,:5] - 1\n",
    "    input_batches = np.concatenate((a,input_batches[:,1:,5:]),axis=2)\n",
    "input_batches.shape"
   ]
  },
  {
   "cell_type": "code",
   "execution_count": 23,
   "metadata": {},
   "outputs": [],
   "source": [
    "input_batches = mm.copy()"
   ]
  },
  {
   "cell_type": "code",
   "execution_count": 24,
   "metadata": {},
   "outputs": [],
   "source": [
    "feature_to_predict = 0\n",
    "use_all_features=True\n",
    "if use_all_features:\n",
    "    X_vals = input_batches[:,:-1,:].transpose(1,0,2) # use all features\n",
    "else:\n",
    "    X_vals = input_batches[:,:-1,:1].transpose(1,0,2) # use only the first (like the close)\n",
    "y_vals = input_batches[:,-1,feature_to_predict]"
   ]
  },
  {
   "cell_type": "code",
   "execution_count": 25,
   "metadata": {},
   "outputs": [
    {
     "data": {
      "text/plain": [
       "((19, 854970, 10), (854970,))"
      ]
     },
     "execution_count": 25,
     "metadata": {},
     "output_type": "execute_result"
    }
   ],
   "source": [
    "X_vals.shape,y_vals.shape"
   ]
  },
  {
   "cell_type": "code",
   "execution_count": 26,
   "metadata": {},
   "outputs": [
    {
     "data": {
      "text/plain": [
       "((19, 100000, 10), (100000,), (19, 100, 10), (100,))"
      ]
     },
     "execution_count": 26,
     "metadata": {},
     "output_type": "execute_result"
    }
   ],
   "source": [
    "train_size = 100000\n",
    "test_size = 100\n",
    "X_train = X_vals[:,:train_size,:]\n",
    "y_train = y_vals[:train_size]\n",
    "X_test = X_vals[:,train_size:(train_size+test_size),:]\n",
    "y_test = y_vals[train_size:(train_size+test_size)]\n",
    "X_train.shape,y_train.shape,X_test.shape,y_test.shape"
   ]
  },
  {
   "cell_type": "code",
   "execution_count": null,
   "metadata": {
    "scrolled": true
   },
   "outputs": [
    {
     "name": "stdout",
     "output_type": "stream",
     "text": [
      "Epoch  0 MSE:  16724156.0\n",
      "Epoch  1 MSE:  15607144.0\n",
      "Epoch  2 MSE:  14851551.0\n",
      "Epoch  3 MSE:  14291066.0\n",
      "Epoch  4 MSE:  13777349.0\n",
      "Epoch  5 MSE:  13263957.0\n",
      "Epoch  6 MSE:  12775790.0\n"
     ]
    }
   ],
   "source": [
    "\n",
    "lstm_input_size = X_train.shape[2]\n",
    "h1 = 64\n",
    "output_dim = 1\n",
    "num_layers = 1\n",
    "model = LSTM(lstm_input_size, h1,  output_dim=output_dim, num_layers=num_layers)\n",
    "\n",
    "num_epochs = 150\n",
    "init_lr  = .01\n",
    "min_lr = .01\n",
    "loss_fn = torch.nn.MSELoss(size_average=False)\n",
    "\n",
    "optimiser = torch.optim.Adam(model.parameters(), lr=init_lr)\n",
    "\n",
    "#####################\n",
    "# Train model\n",
    "#####################\n",
    "\n",
    "hist = np.zeros(num_epochs)\n",
    "# yt = torch.tensor(y_train,dtype=torch.float32)\n",
    "yt = Variable(torch.from_numpy(y_train).type(torch.FloatTensor))\n",
    "\n",
    "lowest_loss = np.finfo('d').max\n",
    "\n",
    "for t in range(num_epochs):\n",
    "    # Clear stored gradient\n",
    "#     model.zero_grad()\n",
    "        \n",
    "    # Forward pass\n",
    "    y_pred = model(X_train)\n",
    "    \n",
    "    loss = loss_fn(y_pred, yt)\n",
    "    if t % 1 == 0:\n",
    "        print(\"Epoch \", t, \"MSE: \", loss.item())\n",
    "    hist[t] = loss.item()\n",
    "\n",
    "    # Zero out gradient, else they will accumulate between epochs\n",
    "    optimiser.zero_grad()\n",
    "\n",
    "    # Backward pass\n",
    "    loss.backward()\n",
    "\n",
    "    # Update parameters\n",
    "    optimiser.step()\n",
    "        \n",
    "    if loss.item() < lowest_loss:\n",
    "        lowest_loss = loss.item()\n",
    "#     if t % 5 == 0 and t > 0:\n",
    "#         for param_group in optimiser.param_groups:\n",
    "#             if param_group['lr'] > min_lr:\n",
    "#                 param_group['lr'] = param_group['lr'] * 0.9\n",
    "    \n"
   ]
  },
  {
   "cell_type": "code",
   "execution_count": null,
   "metadata": {},
   "outputs": [],
   "source": [
    "# y_pred.size()\n",
    "yt.size()"
   ]
  },
  {
   "cell_type": "code",
   "execution_count": null,
   "metadata": {},
   "outputs": [],
   "source": [
    "beg_seq = 1\n",
    "seq_len = 4\n",
    "num_seq = 200000\n",
    "\n",
    "seqs = np.arange(beg_seq,beg_seq+beg_seq*seq_len*num_seq).reshape(-1,l)\n",
    "x_in = a[:,:-1]\n",
    "y_in = a[:,-1:]"
   ]
  },
  {
   "cell_type": "code",
   "execution_count": null,
   "metadata": {},
   "outputs": [],
   "source": [
    "x_in.shape,y_in.shape"
   ]
  },
  {
   "cell_type": "code",
   "execution_count": null,
   "metadata": {
    "scrolled": true
   },
   "outputs": [],
   "source": [
    "yearly_std = .2\n",
    "daily_std = .2 / 252**.5\n",
    "y_init = 100\n",
    "steps = 100\n",
    "pct_changes = np.random.choice([-1,1],size=(steps)) * np.random.randn(steps)* daily_std\n",
    "vals = np.concatenate(([y_init],np.zeros(steps-1)))\n",
    "# 100, i-1 * (1+c1),i-1 * (1+c2),i-1 * (1+c3)\n",
    "\n",
    "# 100, \n",
    "# 100 * (1+c1), \n",
    "# (100 * (1+c1)*(1+c2)), \n",
    "# (100 * (1+c1)*(1+c2))* (1+c3)\n",
    "p=1\n",
    "plt.plot([y_init * np.prod([(1+pct_changes[i-p:i])]) for i in range(p,steps)])\n"
   ]
  },
  {
   "cell_type": "code",
   "execution_count": null,
   "metadata": {},
   "outputs": [],
   "source": [
    "X_vals = input_batches[:,:-1,:1].transpose(1,0,2)\n",
    "y_vals = input_batches[:,-1,0]"
   ]
  },
  {
   "cell_type": "code",
   "execution_count": null,
   "metadata": {},
   "outputs": [],
   "source": [
    "x2 = make_batches(m)\n",
    "x2.shape"
   ]
  },
  {
   "cell_type": "code",
   "execution_count": null,
   "metadata": {},
   "outputs": [],
   "source": []
  }
 ],
 "metadata": {
  "colab": {
   "collapsed_sections": [],
   "name": "Copy of sequence_models_tutorial.ipynb",
   "provenance": [
    {
     "file_id": "https://github.com/pytorch/tutorials/blob/gh-pages/_downloads/sequence_models_tutorial.ipynb",
     "timestamp": 1567199914628
    }
   ],
   "version": "0.3.2"
  },
  "kernelspec": {
   "display_name": "Python 3",
   "language": "python",
   "name": "python3"
  },
  "language_info": {
   "codemirror_mode": {
    "name": "ipython",
    "version": 3
   },
   "file_extension": ".py",
   "mimetype": "text/x-python",
   "name": "python",
   "nbconvert_exporter": "python",
   "pygments_lexer": "ipython3",
   "version": "3.6.5"
  }
 },
 "nbformat": 4,
 "nbformat_minor": 1
}
